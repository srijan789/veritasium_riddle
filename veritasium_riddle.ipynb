{
 "cells": [
  {
   "cell_type": "code",
   "execution_count": 10,
   "metadata": {},
   "outputs": [],
   "source": [
    "\n",
    "import random\n",
    "\n",
    "class problem():\n",
    "  def __init__(self, N):\n",
    "    self.N = N\n",
    "    self.boxes = list(range(self.N))\n",
    "    random.shuffle(self.boxes)\n",
    "    \n",
    "  def get_numbers(self):\n",
    "    return self.boxes\n",
    "\n",
    "  def random_strategy(self, prisoner_number):\n",
    "    chosen_boxes = set()\n",
    "    for _ in range(self.N // 2):\n",
    "      index = random.randrange(self.N)\n",
    "      while index in chosen_boxes:\n",
    "        index = random.randrange(self.N)\n",
    "      chosen_boxes.add(index)\n",
    "      if self.boxes[index] == prisoner_number:\n",
    "        return True\n",
    "    return False\n",
    "  \n",
    "  def loop_strategy(self, prisoner_number): \n",
    "    tempboxes = self.boxes.copy()\n",
    "    next = prisoner_number\n",
    "    for _ in range(self.N//2):\n",
    "      number = tempboxes[next]\n",
    "      if number == prisoner_number:\n",
    "        return True\n",
    "      next = number\n",
    "   \n",
    "    return False\n",
    "\n",
    "  def main(self):\n",
    "    win_count = 0\n",
    "    for prisoner_number in range(self.N):\n",
    "\n",
    "\n",
    "      \n",
    "      # if self.random_strategy(prisoner_number):\n",
    "      #   win_count += 1\n",
    "      if self.loop_strategy(prisoner_number):\n",
    "        win_count += 1\n",
    "\n",
    "\n",
    "    # print(win_count)\n",
    "    return win_count\n",
    "\n",
    "\n",
    "wins = []\n",
    "N = 50\n",
    "for _ in range(1000):\n",
    "  p = problem(N)\n",
    "  wins.append(p.main())\n",
    "\n",
    "\n"
   ]
  },
  {
   "cell_type": "code",
   "execution_count": 11,
   "metadata": {},
   "outputs": [],
   "source": [
    "\n",
    "import pandas as pd\n",
    "df = pd.DataFrame(wins, columns=[\"no. successful prisoners\"])"
   ]
  },
  {
   "cell_type": "code",
   "execution_count": 14,
   "metadata": {},
   "outputs": [
    {
     "data": {
      "text/html": [
       "<div>\n",
       "<style scoped>\n",
       "    .dataframe tbody tr th:only-of-type {\n",
       "        vertical-align: middle;\n",
       "    }\n",
       "\n",
       "    .dataframe tbody tr th {\n",
       "        vertical-align: top;\n",
       "    }\n",
       "\n",
       "    .dataframe thead th {\n",
       "        text-align: right;\n",
       "    }\n",
       "</style>\n",
       "<table border=\"1\" class=\"dataframe\">\n",
       "  <thead>\n",
       "    <tr style=\"text-align: right;\">\n",
       "      <th></th>\n",
       "      <th>no. successful prisoners</th>\n",
       "    </tr>\n",
       "  </thead>\n",
       "  <tbody>\n",
       "    <tr>\n",
       "      <th>0</th>\n",
       "      <td>50</td>\n",
       "    </tr>\n",
       "    <tr>\n",
       "      <th>1</th>\n",
       "      <td>50</td>\n",
       "    </tr>\n",
       "    <tr>\n",
       "      <th>2</th>\n",
       "      <td>50</td>\n",
       "    </tr>\n",
       "    <tr>\n",
       "      <th>3</th>\n",
       "      <td>50</td>\n",
       "    </tr>\n",
       "    <tr>\n",
       "      <th>4</th>\n",
       "      <td>50</td>\n",
       "    </tr>\n",
       "  </tbody>\n",
       "</table>\n",
       "</div>"
      ],
      "text/plain": [
       "   no. successful prisoners\n",
       "0                        50\n",
       "1                        50\n",
       "2                        50\n",
       "3                        50\n",
       "4                        50"
      ]
     },
     "execution_count": 14,
     "metadata": {},
     "output_type": "execute_result"
    }
   ],
   "source": [
    "df.head()"
   ]
  },
  {
   "cell_type": "code",
   "execution_count": 13,
   "metadata": {},
   "outputs": [
    {
     "name": "stdout",
     "output_type": "stream",
     "text": [
      "no. successful prisoners\n",
      "0      17\n",
      "1      20\n",
      "2      30\n",
      "3      19\n",
      "4      18\n",
      "5      22\n",
      "6      28\n",
      "7      18\n",
      "8      23\n",
      "9      22\n",
      "10     19\n",
      "11     26\n",
      "12     30\n",
      "13     25\n",
      "14     24\n",
      "15     25\n",
      "16     39\n",
      "17     26\n",
      "18     27\n",
      "19     30\n",
      "20     43\n",
      "21     43\n",
      "22     33\n",
      "23     39\n",
      "24     35\n",
      "50    319\n",
      "Name: count, dtype: int64\n"
     ]
    },
    {
     "data": {
      "image/png": "[encoded data removed]",
      "text/plain": [
       "<Figure size 640x480 with 1 Axes>"
      ]
     },
     "metadata": {},
     "output_type": "display_data"
    }
   ],
   "source": [
    "frequency_distribution = df['no. successful prisoners'].value_counts().sort_index()\n",
    "print(frequency_distribution)\n",
    "import matplotlib.pyplot as plt\n",
    "\n",
    "frequency_distribution.plot(kind='bar')\n",
    "plt.xlabel('Number of Successful Prisoners')\n",
    "plt.ylabel('Frequency')\n",
    "plt.title('Frequency Distribution of Successful Prisoners')\n",
    "plt.show()\n"
   ]
  },
  {
   "cell_type": "code",
   "execution_count": null,
   "metadata": {},
   "outputs": [],
   "source": []
  },
  {
   "cell_type": "code",
   "execution_count": null,
   "metadata": {},
   "outputs": [],
   "source": []
  }
 ],
 "metadata": {
  "kernelspec": {
   "display_name": "Python 3",
   "language": "python",
   "name": "python3"
  },
  "language_info": {
   "codemirror_mode": {
    "name": "ipython",
    "version": 3
   },
   "file_extension": ".py",
   "mimetype": "text/x-python",
   "name": "python",
   "nbconvert_exporter": "python",
   "pygments_lexer": "ipython3",
   "version": "3.10.12"
  }
 },
 "nbformat": 4,
 "nbformat_minor": 2
}
